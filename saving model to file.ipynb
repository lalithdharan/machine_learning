{
 "cells": [
  {
   "cell_type": "markdown",
   "id": "3686e063",
   "metadata": {},
   "source": [
    "refer to the joblib and pickle function used in linear regression jupyter notebook file \n",
    "these function helps to load the model into a file and run it in another file or device "
   ]
  },
  {
   "cell_type": "code",
   "execution_count": 15,
   "id": "fc1baa39",
   "metadata": {},
   "outputs": [],
   "source": [
    "import joblib\n",
    "import pickle"
   ]
  },
  {
   "cell_type": "code",
   "execution_count": 10,
   "id": "fcd219d6",
   "metadata": {},
   "outputs": [],
   "source": [
    "template_model_joblib = joblib.load(r\"C:\\Users\\G.M.BHOOPESH\\Desktop\\jupyter\\joblib_model\")"
   ]
  },
  {
   "cell_type": "code",
   "execution_count": 17,
   "id": "38069d4f",
   "metadata": {},
   "outputs": [],
   "source": [
    "with open(r\"C:\\Users\\G.M.BHOOPESH\\Desktop\\jupyter\\pickle_model\", 'rb') as file:\n",
    "    template_model_pickle = pickle.load(file)"
   ]
  },
  {
   "cell_type": "code",
   "execution_count": 19,
   "id": "3db30be7",
   "metadata": {},
   "outputs": [
    {
     "name": "stderr",
     "output_type": "stream",
     "text": [
      "C:\\Users\\G.M.BHOOPESH\\AppData\\Local\\Programs\\Python\\Python311\\Lib\\site-packages\\sklearn\\base.py:465: UserWarning: X does not have valid feature names, but LinearRegression was fitted with feature names\n",
      "  warnings.warn(\n"
     ]
    },
    {
     "data": {
      "text/plain": [
       "array([45365584.42503642])"
      ]
     },
     "execution_count": 19,
     "metadata": {},
     "output_type": "execute_result"
    }
   ],
   "source": [
    "template_model_pickle.predict([[9000, 132, 8973]])"
   ]
  },
  {
   "cell_type": "code",
   "execution_count": 13,
   "id": "91ea2157",
   "metadata": {},
   "outputs": [
    {
     "name": "stderr",
     "output_type": "stream",
     "text": [
      "C:\\Users\\G.M.BHOOPESH\\AppData\\Local\\Programs\\Python\\Python311\\Lib\\site-packages\\sklearn\\base.py:465: UserWarning: X does not have valid feature names, but LinearRegression was fitted with feature names\n",
      "  warnings.warn(\n"
     ]
    },
    {
     "data": {
      "text/plain": [
       "array([45365584.42503642])"
      ]
     },
     "execution_count": 13,
     "metadata": {},
     "output_type": "execute_result"
    }
   ],
   "source": [
    "template_model_joblib.predict([[9000, 132, 8973]])"
   ]
  }
 ],
 "metadata": {
  "kernelspec": {
   "display_name": "Python 3 (ipykernel)",
   "language": "python",
   "name": "python3"
  },
  "language_info": {
   "codemirror_mode": {
    "name": "ipython",
    "version": 3
   },
   "file_extension": ".py",
   "mimetype": "text/x-python",
   "name": "python",
   "nbconvert_exporter": "python",
   "pygments_lexer": "ipython3",
   "version": "3.11.1"
  }
 },
 "nbformat": 4,
 "nbformat_minor": 5
}
