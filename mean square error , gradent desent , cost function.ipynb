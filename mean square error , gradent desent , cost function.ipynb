{
 "cells": [
  {
   "cell_type": "markdown",
   "id": "9d3b19e8",
   "metadata": {},
   "source": [
    "mean square error is the square of the error of all the data points and divided by the total no of data points"
   ]
  },
  {
   "cell_type": "markdown",
   "id": "074afef4",
   "metadata": {},
   "source": [
    "mse = 1/n(delta)^2\n",
    "delta = actual value - predicted value\n",
    "mean square error is the most used cost function in machine learning"
   ]
  },
  {
   "cell_type": "markdown",
   "id": "6e778729",
   "metadata": {},
   "source": [
    "gradient desent is the algorithm that is used to find bestfit line in less no of iterations\n",
    "we use diffrental calculus of m and b in y =mx +b and learning rate to find gradient desent"
   ]
  },
  {
   "cell_type": "markdown",
   "id": "d040b14f",
   "metadata": {},
   "source": [
    "for more concept refer : https://youtu.be/vsWrXfO3wWw?si=DNsKcp5FQriSW446"
   ]
  }
 ],
 "metadata": {
  "kernelspec": {
   "display_name": "Python 3 (ipykernel)",
   "language": "python",
   "name": "python3"
  },
  "language_info": {
   "codemirror_mode": {
    "name": "ipython",
    "version": 3
   },
   "file_extension": ".py",
   "mimetype": "text/x-python",
   "name": "python",
   "nbconvert_exporter": "python",
   "pygments_lexer": "ipython3",
   "version": "3.11.1"
  }
 },
 "nbformat": 4,
 "nbformat_minor": 5
}
